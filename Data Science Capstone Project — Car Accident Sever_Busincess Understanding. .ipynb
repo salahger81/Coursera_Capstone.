#!/usr/bin/env python
# coding: utf-8

# # IBM Data Science Capstone Report 

# # Seattle Car Accident Severity # 

# ## 1-  Business Understanding

# The Seattle government is going to prevent avoidable car accidents by employing methods that alert drivers, health system, and police to remind them to be more careful in critical situations.
# 

# In most cases, not paying enough attention during driving, abusing drugs and alcohol or driving at very high speed are the main causes of occurring accidents that can be prevented by enacting harsher regulations. Besides the aforementioned reasons, weather, visibility, or road conditions are the major uncontrollable factors that can be prevented by revealing hidden patterns in the data and announcing warning to the local government, police and drivers on the targeted roads.
# 

# The target audience of the project is local Seattle government, police, rescue groups, and last but not least, car insurance institutes. The model and its results are going to provide some advice for the target audience to make insightful decisions for reducing the number of accidents and injuries for the city.
# 

# In[ ]:




